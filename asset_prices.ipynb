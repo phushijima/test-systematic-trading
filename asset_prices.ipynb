{
 "cells": [
  {
   "cell_type": "code",
   "execution_count": 11,
   "id": "8ac48fb2-5430-4e6a-b2ed-507d351d97b1",
   "metadata": {},
   "outputs": [],
   "source": [
    "import pandas as pd\n",
    "import matplotlib.pyplot as plt\n",
    "import numpy as np\n",
    "import copy"
   ]
  },
  {
   "cell_type": "code",
   "execution_count": 12,
   "id": "9bf7506b-8699-41fc-967d-986ee3b7afab",
   "metadata": {
    "scrolled": true
   },
   "outputs": [],
   "source": [
    "# Run this function if you do not have a proper **price.csv** file\n",
    "def get_prices():\n",
    "    prices_list = []\n",
    "\n",
    "    for i in range(len(list_of_coins)):\n",
    "        # Read through CSV files\n",
    "        lowercase_coin_name = str.lower(list_of_coins[i])\n",
    "        temp_df = pd.read_csv('data/' + lowercase_coin_name + '-historical-day-data-all-tokeninsight.csv') \n",
    "\n",
    "        # Select 'Date', 'Price' columns and reverse order the dataframe from previous to current date\n",
    "        data = temp_df[['Date', 'Price']] \n",
    "        data = data.iloc[::-1].reset_index(drop=True)   \n",
    "\n",
    "        # Rename 'Price' columns with the coin's name\n",
    "        current_coin = list_of_coins[i]\n",
    "        data.rename(columns={\"Price\": current_coin}, inplace=True)\n",
    "\n",
    "        # Append dataframes to corresponding lists\n",
    "        prices_list.append(data)\n",
    "\n",
    "    # Making a deepcopy of the first dataframe to avoid mutation of the original list\n",
    "    prices = copy.deepcopy(prices_list[0])\n",
    "\n",
    "    # Setting 'Date' column values as index\n",
    "    prices.set_index('Date', inplace=True)\n",
    "\n",
    "    for i in range(len(list_of_coins) - 1):\n",
    "        prices_temp_df = prices_list[i+1].set_index('Date')\n",
    "        prices = prices.join(prices_temp_df)\n",
    "\n",
    "    # Resetting index back to normal\n",
    "    prices.reset_index(inplace=True)\n",
    "\n",
    "    # Formatting 'Data' column\n",
    "    prices['Date'] = pd.to_datetime(prices['Date'])\n",
    "    prices['Date'] = prices['Date'].dt.strftime('%Y-%m-%d')\n",
    "\n",
    "    return prices\n",
    "\n",
    "# Calculating returns from prices dataframe\n",
    "def get_returns():\n",
    "    returns = prices.iloc[:,:]\n",
    "    \n",
    "    for i in range(len(list_of_coins)):\n",
    "        coin_name = list_of_coins[i]\n",
    "        returns[coin_name] = returns.iloc[:,i+1].ffill().pct_change(1)\n",
    "\n",
    "    return returns\n",
    "\n",
    "# Calculating volatility from returns dataframe\n",
    "def get_volatility():\n",
    "    returns = get_returns()\n",
    "    volatility = returns.iloc[:,:]\n",
    "    \n",
    "    for i in range(len(list_of_coins)):\n",
    "        coin_name = list_of_coins[i]\n",
    "        volatility[coin_name]= volatility.iloc[:, i+1].rolling(window=365).std() * np.sqrt(365)\n",
    "    return volatility\n",
    "\n",
    "def get_subsystem_position(capital, volatility_target, instrument, instrument_forecast):\n",
    "\n",
    "    # Calculating variables for volatility targeting\n",
    "    annul_volatility_target = capital * volatility_target\n",
    "    daily_cash_volatility_target = annul_volatility_target / np.sqrt(365)\n",
    "\n",
    "    # Calculating price volatility - expected daily standart deviation of instrument returns\n",
    "    price_volatility = 0.013\n",
    "    \n",
    "    instrument_block = 1\n",
    "\n",
    "    # Calculating block_value based on the latest price of the given instrument\n",
    "    price = prices[instrument].iloc[-1]\n",
    "    block_value = price * 0.01\n",
    "\n",
    "    \n",
    "    # Calculating the subsystem position\n",
    "    instrument_value_volatility = (price_volatility * 100) * block_value\n",
    "    volatility_scalar = daily_cash_volatility_target / instrument_value_volatility\n",
    "\n",
    "    # Finally getting the subsystem\n",
    "    subsystem_position = instrument_forecast * volatility_scalar * 0.1\n",
    "    \n",
    "    return subsystem_position\n",
    "\n",
    "def get_ewma_volatility(coin):\n",
    "    volatility_lookback_coefficent = 0.054\n",
    "\n",
    "    returns = get_returns()\n",
    "    temp_arr = np.array(returns[coin].fillna(0))\n",
    "    \n",
    "    size = temp_arr.size\n",
    "    zero_arr = np.zeros(size)\n",
    "    \n",
    "    squared_arr = np.power(temp_arr, 2)\n",
    "\n",
    "    for i in range(size):\n",
    "\n",
    "        if (i == 0):\n",
    "            zero_arr[i] = squared_arr[i]\n",
    "\n",
    "        zero_arr[i] = squared_arr[i] * volatility_lookback_coefficent + ((1 - volatility_lookback_coefficent) * zero_arr[i - 1])\n",
    "\n",
    "    result_arr = np.sqrt(zero_arr)\n",
    "    result = pd.DataFrame(result_arr, columns=[coin])\n",
    "\n",
    "    return result"
   ]
  },
  {
   "cell_type": "code",
   "execution_count": 15,
   "id": "8e90eccd-a44a-474a-9a14-931ec61cad3a",
   "metadata": {},
   "outputs": [],
   "source": [
    "prices = pd.read_csv('prices.csv')\n",
    "list_of_coins = ['BITCOIN', 'ETHEREUM', 'SOLANA', 'RIPPLE', 'THE-OPEN-NETWORKTON']"
   ]
  },
  {
   "cell_type": "code",
   "execution_count": 35,
   "id": "620f0974-6b25-4e29-b565-39ede13ff052",
   "metadata": {},
   "outputs": [
    {
     "data": {
      "text/plain": [
       "<bound method Series.mean of 0            NaN\n",
       "1            NaN\n",
       "2            NaN\n",
       "3            NaN\n",
       "4            NaN\n",
       "          ...   \n",
       "5136   -0.037296\n",
       "5137   -0.015197\n",
       "5138   -0.080559\n",
       "5139    0.032073\n",
       "5140    0.003558\n",
       "Name: SOLANA, Length: 5141, dtype: float64>"
      ]
     },
     "execution_count": 35,
     "metadata": {},
     "output_type": "execute_result"
    }
   ],
   "source": [
    "get_returns()['SOLANA']"
   ]
  }
 ],
 "metadata": {
  "kernelspec": {
   "display_name": "Python 3 (ipykernel)",
   "language": "python",
   "name": "python3"
  },
  "language_info": {
   "codemirror_mode": {
    "name": "ipython",
    "version": 3
   },
   "file_extension": ".py",
   "mimetype": "text/x-python",
   "name": "python",
   "nbconvert_exporter": "python",
   "pygments_lexer": "ipython3",
   "version": "3.12.4"
  }
 },
 "nbformat": 4,
 "nbformat_minor": 5
}
