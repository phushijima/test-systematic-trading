{
 "cells": [
  {
   "cell_type": "code",
   "execution_count": 16,
   "id": "8ac48fb2-5430-4e6a-b2ed-507d351d97b1",
   "metadata": {},
   "outputs": [],
   "source": [
    "import pandas as pd\n",
    "import matplotlib.pyplot as plt\n",
    "import numpy as np\n",
    "import copy"
   ]
  },
  {
   "cell_type": "code",
   "execution_count": 71,
   "id": "9bf7506b-8699-41fc-967d-986ee3b7afab",
   "metadata": {
    "scrolled": true
   },
   "outputs": [],
   "source": [
    "# Run this function if you do not have a proper **price.csv** file\n",
    "def get_prices_dataframe():\n",
    "    prices_list = []\n",
    "\n",
    "    for i in range(len(list_of_coins)):\n",
    "        # Read through CSV files\n",
    "        lowercase_coin_name = str.lower(list_of_coins[i])\n",
    "        temp_df = pd.read_csv('data/' + lowercase_coin_name + '-historical-day-data-all-tokeninsight.csv') \n",
    "\n",
    "        # Select 'Date', 'Price' columns and reverse order the dataframe from previous to current date\n",
    "        data = temp_df[['Date', 'Price']] \n",
    "        data = data.iloc[::-1].reset_index(drop=True)   \n",
    "\n",
    "        # Rename 'Price' columns with the coin's name\n",
    "        current_coin = list_of_coins[i]\n",
    "        data.rename(columns={\"Price\": current_coin}, inplace=True)\n",
    "\n",
    "        # Append dataframes to corresponding lists\n",
    "        prices_list.append(data)\n",
    "\n",
    "    # Making a deepcopy of the first dataframe to avoid mutation of the original list\n",
    "    prices = copy.deepcopy(prices_list[0])\n",
    "\n",
    "    # Setting 'Date' column values as index\n",
    "    prices.set_index('Date', inplace=True)\n",
    "\n",
    "    for i in range(len(list_of_coins) - 1):\n",
    "        prices_temp_df = prices_list[i+1].set_index('Date')\n",
    "        prices = prices.join(prices_temp_df)\n",
    "\n",
    "    # Resetting index back to normal\n",
    "    prices.reset_index(inplace=True)\n",
    "\n",
    "    # Formatting 'Data' column\n",
    "    prices['Date'] = pd.to_datetime(prices['Date'])\n",
    "    prices['Date'] = prices['Date'].dt.strftime('%Y-%m-%d')\n",
    "\n",
    "    return prices\n",
    "\n",
    "# Calculating returns from prices dataframe\n",
    "def get_returns_dataframe():\n",
    "    returns = prices.iloc[:,:]\n",
    "    \n",
    "    for i in range(len(list_of_coins)):\n",
    "        coin_name = list_of_coins[i]\n",
    "        returns[coin_name] = returns.iloc[:,i+1].ffill().pct_change(1)\n",
    "\n",
    "    return returns\n",
    "\n",
    "# Calculating volatility from returns dataframe\n",
    "def get_volatility_dataframe():\n",
    "    returns = get_returns_dataframe()\n",
    "    volatility = returns.iloc[:,:]\n",
    "    \n",
    "    for i in range(len(list_of_coins)):\n",
    "        coin_name = list_of_coins[i]\n",
    "        volatility[coin_name]= volatility.iloc[:, i+1].rolling(window=365).std() * np.sqrt(365)\n",
    "    return volatility\n",
    "\n",
    "def get_subsystem_position(capital, volatility_target, instrument, instrument_forecast):\n",
    "\n",
    "    # Calculating variables for volatility targeting\n",
    "    annul_volatility_target = capital * volatility_target\n",
    "    daily_cash_volatility_target = annul_volatility_target / np.sqrt(365)\n",
    "\n",
    "    # Calculating price volatility - expected daily standart deviation of instrument returns\n",
    "    price_volatility = 0.013\n",
    "    \n",
    "    instrument_block = 1\n",
    "\n",
    "    # Calculating block_value based on the latest price of the given instrument\n",
    "    price = prices[instrument].iloc[-1]\n",
    "    block_value = price * 0.01\n",
    "\n",
    "    \n",
    "    # Calculating the subsystem position\n",
    "    instrument_value_volatility = (price_volatility * 100) * block_value\n",
    "    volatility_scalar = daily_cash_volatility_target / instrument_value_volatility\n",
    "\n",
    "    # Finally getting the subsystem\n",
    "    subsystem_position = instrument_forecast * volatility_scalar * 0.1\n",
    "    \n",
    "    return subsystem_position"
   ]
  },
  {
   "cell_type": "code",
   "execution_count": 70,
   "id": "9dad4c3b-a1c6-481d-b424-c78f56afb24b",
   "metadata": {},
   "outputs": [
    {
     "name": "stdout",
     "output_type": "stream",
     "text": [
      "2.11159\n"
     ]
    },
    {
     "data": {
      "text/plain": [
       "np.float64(61.97035440002719)"
      ]
     },
     "execution_count": 70,
     "metadata": {},
     "output_type": "execute_result"
    }
   ],
   "source": [
    "# Reading prices.csv file\n",
    "prices = pd.read_csv('prices.csv')\n",
    "list_of_coins = ['BITCOIN', 'ETHEREUM', 'BINANCE-COIN', 'SOLANA']\n",
    "# Parameters\n",
    "capital = 10000\n",
    "volatility_target = 0.25\n",
    "\n",
    "get_subsystem_position(capital, volatility_target, 'SOLANA', 10)"
   ]
  }
 ],
 "metadata": {
  "kernelspec": {
   "display_name": "Python 3 (ipykernel)",
   "language": "python",
   "name": "python3"
  },
  "language_info": {
   "codemirror_mode": {
    "name": "ipython",
    "version": 3
   },
   "file_extension": ".py",
   "mimetype": "text/x-python",
   "name": "python",
   "nbconvert_exporter": "python",
   "pygments_lexer": "ipython3",
   "version": "3.12.4"
  }
 },
 "nbformat": 4,
 "nbformat_minor": 5
}
